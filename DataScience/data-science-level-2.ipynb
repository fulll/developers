{
 "cells": [
  {
   "cell_type": "markdown",
   "metadata": {},
   "source": [
    "## [Data Science] Image Processing : Exploratory & Modeling\n",
    "In this poject we will work on a set of image of letters in plenty of differents fronts.\n",
    "The data consists of characters rendered in a variety of fonts on a 28x28 image. The labels are limited to 'A' through 'J' (10 classes). The training set has about 500k and the testset 19000 labeled examples. Given these sizes, it should be possible to train models quickly on any machine.\n"
   ]
  },
  {
   "cell_type": "markdown",
   "metadata": {},
   "source": [
    "You need to go step by step through this notebook, and fill the code in the //TODO. \n",
    "Please make sure to explain clearly all your choices. "
   ]
  },
  {
   "cell_type": "code",
   "execution_count": 1,
   "metadata": {},
   "outputs": [
    {
     "name": "stdout",
     "output_type": "stream",
     "text": [
      "Using Python  = 3.8.5\n",
      "Tensorflow    = 2.5.0\n"
     ]
    }
   ],
   "source": [
    "\n",
    "# These are all the modules that could be use for this project. Make sure you can import them\n",
    "# before proceeding further.\n",
    "from __future__ import print_function\n",
    "import imageio\n",
    "import matplotlib.pyplot as plt\n",
    "import numpy as np\n",
    "import tensorflow as tf\n",
    "import os\n",
    "import sys\n",
    "import tarfile\n",
    "from IPython.display import display, Image\n",
    "from sklearn.linear_model import LogisticRegression\n",
    "from six.moves.urllib.request import urlretrieve\n",
    "# renaming the pickle function because there is already a pickle fun and python seems to confond them\n",
    "from six.moves import cPickle as pkl\n",
    "%matplotlib inline\n",
    "np.random.seed(133)\n",
    "print(f'Using Python  = {sys.version.split()[0]}')\n",
    "print(f'Tensorflow    = {tf.__version__}')\n"
   ]
  },
  {
   "cell_type": "markdown",
   "metadata": {},
   "source": [
    "## Step 1 Download data set"
   ]
  },
  {
   "cell_type": "code",
   "execution_count": null,
   "metadata": {},
   "outputs": [],
   "source": [
    "In order to save you time we provide this function"
   ]
  },
  {
   "cell_type": "code",
   "execution_count": 2,
   "metadata": {},
   "outputs": [
    {
     "name": "stdout",
     "output_type": "stream",
     "text": [
      "Attempting to download: notMNIST_large.tar.gz\n",
      "0%....5%....10%....15%....20%....25%....30%....35%....40%....45%....50%....55%....60%....65%....70%....75%....80%....85%....90%....95%....100%\n",
      "Download Complete!\n",
      "Found and verified .\\notMNIST_large.tar.gz\n",
      "Attempting to download: notMNIST_small.tar.gz\n",
      "0%....5%....10%....15%....20%....25%....30%....35%....40%....45%....50%....55%....60%....65%....70%....75%....80%....85%....90%....95%....100%\n",
      "Download Complete!\n",
      "Found and verified .\\notMNIST_small.tar.gz\n"
     ]
    }
   ],
   "source": [
    "\n",
    "url = 'https://commondatastorage.googleapis.com/books1000/'\n",
    "last_percent_reported = None\n",
    "data_root = '.' # Change me to store data elsewhere\n",
    "\n",
    "def download_progress(count, blockSize, totalSize):\n",
    "  \"\"\"\n",
    "  Simple hook to report the progress of a download. \n",
    "  \"\"\"\n",
    "  global last_percent_reported\n",
    "  percent = int(count * blockSize * 100 / totalSize)\n",
    "\n",
    "  if last_percent_reported != percent:\n",
    "    if percent % 5 == 0:\n",
    "      sys.stdout.write(\"%s%%\" % percent)\n",
    "      sys.stdout.flush()\n",
    "    else:\n",
    "      sys.stdout.write(\".\")\n",
    "      sys.stdout.flush()\n",
    "      \n",
    "    last_percent_reported = percent\n",
    "        \n",
    "def gz_download(filename, expected_bytes, force=False):\n",
    "  \"\"\"\n",
    "  Download a file if not present, and make sure it's the right size.\n",
    "  \"\"\"\n",
    "  dest_filename = os.path.join(data_root, filename)\n",
    "  if force or not os.path.exists(dest_filename):\n",
    "    print('Attempting to download:', filename) \n",
    "    filename, _ = urlretrieve(url + filename, dest_filename, reporthook=download_progress)\n",
    "    print('\\nDownload Complete!')\n",
    "  statinfo = os.stat(dest_filename)\n",
    "  if statinfo.st_size == expected_bytes:\n",
    "    print('Found and verified', dest_filename)\n",
    "  else:\n",
    "    raise Exception(\n",
    "      'Failed to verify ' + dest_filename + '. Can you get to it with a browser?')\n",
    "  return dest_filename\n",
    "\n",
    "train_filename = gz_download('notMNIST_large.tar.gz', 247336696)\n",
    "test_filename = gz_download('notMNIST_small.tar.gz', 8458043)"
   ]
  },
  {
   "cell_type": "markdown",
   "metadata": {},
   "source": [
    "Extract the dataset from the compressed .tar.gz file. This should give you a set of directories, labeled A through J."
   ]
  },
  {
   "cell_type": "code",
   "execution_count": 3,
   "metadata": {},
   "outputs": [
    {
     "name": "stdout",
     "output_type": "stream",
     "text": [
      "['C:\\\\Users\\\\geoff\\\\Desktop\\\\fulll_aix\\\\developers\\\\DataScience\\\\.\\\\notMNIST_large\\\\.\\\\notMNIST_large\\\\A', 'C:\\\\Users\\\\geoff\\\\Desktop\\\\fulll_aix\\\\developers\\\\DataScience\\\\.\\\\notMNIST_large\\\\.\\\\notMNIST_large\\\\B', 'C:\\\\Users\\\\geoff\\\\Desktop\\\\fulll_aix\\\\developers\\\\DataScience\\\\.\\\\notMNIST_large\\\\.\\\\notMNIST_large\\\\C', 'C:\\\\Users\\\\geoff\\\\Desktop\\\\fulll_aix\\\\developers\\\\DataScience\\\\.\\\\notMNIST_large\\\\.\\\\notMNIST_large\\\\D', 'C:\\\\Users\\\\geoff\\\\Desktop\\\\fulll_aix\\\\developers\\\\DataScience\\\\.\\\\notMNIST_large\\\\.\\\\notMNIST_large\\\\E', 'C:\\\\Users\\\\geoff\\\\Desktop\\\\fulll_aix\\\\developers\\\\DataScience\\\\.\\\\notMNIST_large\\\\.\\\\notMNIST_large\\\\F', 'C:\\\\Users\\\\geoff\\\\Desktop\\\\fulll_aix\\\\developers\\\\DataScience\\\\.\\\\notMNIST_large\\\\.\\\\notMNIST_large\\\\G', 'C:\\\\Users\\\\geoff\\\\Desktop\\\\fulll_aix\\\\developers\\\\DataScience\\\\.\\\\notMNIST_large\\\\.\\\\notMNIST_large\\\\H', 'C:\\\\Users\\\\geoff\\\\Desktop\\\\fulll_aix\\\\developers\\\\DataScience\\\\.\\\\notMNIST_large\\\\.\\\\notMNIST_large\\\\I', 'C:\\\\Users\\\\geoff\\\\Desktop\\\\fulll_aix\\\\developers\\\\DataScience\\\\.\\\\notMNIST_large\\\\.\\\\notMNIST_large\\\\J']\n",
      "['C:\\\\Users\\\\geoff\\\\Desktop\\\\fulll_aix\\\\developers\\\\DataScience\\\\.\\\\notMNIST_small\\\\.\\\\notMNIST_small\\\\A', 'C:\\\\Users\\\\geoff\\\\Desktop\\\\fulll_aix\\\\developers\\\\DataScience\\\\.\\\\notMNIST_small\\\\.\\\\notMNIST_small\\\\B', 'C:\\\\Users\\\\geoff\\\\Desktop\\\\fulll_aix\\\\developers\\\\DataScience\\\\.\\\\notMNIST_small\\\\.\\\\notMNIST_small\\\\C', 'C:\\\\Users\\\\geoff\\\\Desktop\\\\fulll_aix\\\\developers\\\\DataScience\\\\.\\\\notMNIST_small\\\\.\\\\notMNIST_small\\\\D', 'C:\\\\Users\\\\geoff\\\\Desktop\\\\fulll_aix\\\\developers\\\\DataScience\\\\.\\\\notMNIST_small\\\\.\\\\notMNIST_small\\\\E', 'C:\\\\Users\\\\geoff\\\\Desktop\\\\fulll_aix\\\\developers\\\\DataScience\\\\.\\\\notMNIST_small\\\\.\\\\notMNIST_small\\\\F', 'C:\\\\Users\\\\geoff\\\\Desktop\\\\fulll_aix\\\\developers\\\\DataScience\\\\.\\\\notMNIST_small\\\\.\\\\notMNIST_small\\\\G', 'C:\\\\Users\\\\geoff\\\\Desktop\\\\fulll_aix\\\\developers\\\\DataScience\\\\.\\\\notMNIST_small\\\\.\\\\notMNIST_small\\\\H', 'C:\\\\Users\\\\geoff\\\\Desktop\\\\fulll_aix\\\\developers\\\\DataScience\\\\.\\\\notMNIST_small\\\\.\\\\notMNIST_small\\\\I', 'C:\\\\Users\\\\geoff\\\\Desktop\\\\fulll_aix\\\\developers\\\\DataScience\\\\.\\\\notMNIST_small\\\\.\\\\notMNIST_small\\\\J']\n"
     ]
    }
   ],
   "source": [
    "def tar_extract(filename, force=False):\n",
    "    root = os.path.splitext(os.path.splitext(filename)[0])[0]  # remove .tar.gz\n",
    "\n",
    "    my_tar = tarfile.open(filename)\n",
    "    my_tar.extractall(os.path.join(os.getcwd(),root)) # specify which folder to extract to\n",
    "    my_tar.close()\n",
    "    data_folders_name = os.listdir(os.path.join(os.getcwd(),root,root))\n",
    "    data_folders = [os.path.join(os.getcwd(),root,root,fldr) for fldr in data_folders_name]\n",
    "\n",
    "\n",
    "    print(data_folders)\n",
    "    return data_folders\n",
    "  \n",
    "train_folders = tar_extract(train_filename)\n",
    "test_folders = tar_extract(test_filename)"
   ]
  },
  {
   "cell_type": "markdown",
   "metadata": {},
   "source": [
    "## Problem 1\n",
    "Let's take a peek at some of the data to make sure it looks sensible. Each exemplar should be an image of a character A through J rendered in a different font. Display a sample of the images that we just downloaded. "
   ]
  },
  {
   "cell_type": "code",
   "execution_count": 4,
   "metadata": {},
   "outputs": [
    {
     "name": "stdout",
     "output_type": "stream",
     "text": [
      "A selection of random images and their label\n"
     ]
    },
    {
     "data": {
      "image/png": "[encoded data removed]",
      "text/plain": [
       "<Figure size 864x432 with 10 Axes>"
      ]
     },
     "metadata": {
      "needs_background": "light"
     },
     "output_type": "display_data"
    }
   ],
   "source": [
    "# Let's sample randomly one image from each folder and see if the folder name correspond to the image\n",
    "\n",
    "def get_img_sample(folder):\n",
    "    \"\"\" Get an image from each class and its label\"\"\"\n",
    "    samples = []\n",
    "    # Gonna go through each folder to extrat the folder name and import a random image \n",
    "    for i in range(0,len(folder)):\n",
    "        current_folder = folder[i]\n",
    "        folder_name = current_folder[-1]\n",
    "        # Generating a random index \n",
    "        random_value = np.random.randint(low=0, high=len(os.listdir(current_folder)), size=1,)[0]\n",
    "        # Sampeling an image path with the random index\n",
    "        img_path = os.path.join(current_folder,os.listdir(current_folder)[random_value])\n",
    "        # Appending the (folder name , random image array) to a list\n",
    "        samples.append((folder_name,plt.imread(img_path)))\n",
    "        \n",
    "    return samples\n",
    "\n",
    "def plt_sample(sample):\n",
    "    \"\"\" Plot a sample of images \"\"\"\n",
    "    fig=plt.figure(figsize=(12,6))\n",
    "    rows = 2\n",
    "    columns = 5\n",
    "    for idx,val in enumerate(sample):\n",
    "\n",
    "        fig.add_subplot(rows, columns, idx+1)\n",
    "        plt.imshow(val[1], cmap=\"gray\")\n",
    "        plt.title(val[0])\n",
    "\n",
    "    fig.tight_layout(pad=3.0)\n",
    "    plt.show()\n",
    "\n",
    "samples = get_img_sample(train_folders)\n",
    "print(\"A selection of random images and their label\")\n",
    "plt_sample(samples)"
   ]
  },
  {
   "cell_type": "code",
   "execution_count": 5,
   "metadata": {},
   "outputs": [],
   "source": [
    "# As we can see, each random image seems to correspond to its label/folder name.Everything seems to be in order."
   ]
  },
  {
   "cell_type": "markdown",
   "metadata": {},
   "source": [
    "\n",
    "Now let's load the data in a more manageable format. Since, depending on your computer setup you might not be able to fit it all in memory, we'll load each class into a separate dataset, store them on disk and curate them independently. We could merge into a single dataset of manageable size if needed.\n",
    "\n",
    "We'll convert the entire dataset into a 3D array (image index, x, y) of floating point values, normalized to have approximately zero mean and standard deviation ~0.5 to make training easier down the road.\n"
   ]
  },
  {
   "cell_type": "code",
   "execution_count": 6,
   "metadata": {},
   "outputs": [
    {
     "name": "stdout",
     "output_type": "stream",
     "text": [
      "Pickling C:\\Users\\geoff\\Desktop\\fulll_aix\\developers\\DataScience\\.\\notMNIST_large\\.\\notMNIST_large\\A.pickle.\n",
      "C:\\Users\\geoff\\Desktop\\fulll_aix\\developers\\DataScience\\.\\notMNIST_large\\.\\notMNIST_large\\A\n",
      "Could not read: C:\\Users\\geoff\\Desktop\\fulll_aix\\developers\\DataScience\\.\\notMNIST_large\\.\\notMNIST_large\\A\\RnJlaWdodERpc3BCb29rSXRhbGljLnR0Zg==.png : Could not find a format to read the specified file in single-image mode - it's ok, skipping.\n",
      "Could not read: C:\\Users\\geoff\\Desktop\\fulll_aix\\developers\\DataScience\\.\\notMNIST_large\\.\\notMNIST_large\\A\\SG90IE11c3RhcmQgQlROIFBvc3Rlci50dGY=.png : Could not find a format to read the specified file in single-image mode - it's ok, skipping.\n",
      "Could not read: C:\\Users\\geoff\\Desktop\\fulll_aix\\developers\\DataScience\\.\\notMNIST_large\\.\\notMNIST_large\\A\\Um9tYW5hIEJvbGQucGZi.png : Could not find a format to read the specified file in single-image mode - it's ok, skipping.\n",
      "Full dataset tensor: (52909, 28, 28)\n",
      "Mean: -0.12825024\n",
      "Standard deviation: 0.44312063\n",
      "Pickling C:\\Users\\geoff\\Desktop\\fulll_aix\\developers\\DataScience\\.\\notMNIST_large\\.\\notMNIST_large\\B.pickle.\n",
      "C:\\Users\\geoff\\Desktop\\fulll_aix\\developers\\DataScience\\.\\notMNIST_large\\.\\notMNIST_large\\B\n",
      "Could not read: C:\\Users\\geoff\\Desktop\\fulll_aix\\developers\\DataScience\\.\\notMNIST_large\\.\\notMNIST_large\\B\\TmlraXNFRi1TZW1pQm9sZEl0YWxpYy5vdGY=.png : Could not find a format to read the specified file in single-image mode - it's ok, skipping.\n",
      "Full dataset tensor: (52911, 28, 28)\n",
      "Mean: -0.0075630303\n",
      "Standard deviation: 0.45449105\n",
      "Pickling C:\\Users\\geoff\\Desktop\\fulll_aix\\developers\\DataScience\\.\\notMNIST_large\\.\\notMNIST_large\\C.pickle.\n",
      "C:\\Users\\geoff\\Desktop\\fulll_aix\\developers\\DataScience\\.\\notMNIST_large\\.\\notMNIST_large\\C\n",
      "Full dataset tensor: (52912, 28, 28)\n",
      "Mean: -0.14225811\n",
      "Standard deviation: 0.43980625\n",
      "Pickling C:\\Users\\geoff\\Desktop\\fulll_aix\\developers\\DataScience\\.\\notMNIST_large\\.\\notMNIST_large\\D.pickle.\n",
      "C:\\Users\\geoff\\Desktop\\fulll_aix\\developers\\DataScience\\.\\notMNIST_large\\.\\notMNIST_large\\D\n",
      "Could not read: C:\\Users\\geoff\\Desktop\\fulll_aix\\developers\\DataScience\\.\\notMNIST_large\\.\\notMNIST_large\\D\\VHJhbnNpdCBCb2xkLnR0Zg==.png : Could not find a format to read the specified file in single-image mode - it's ok, skipping.\n",
      "Full dataset tensor: (52911, 28, 28)\n",
      "Mean: -0.057367794\n",
      "Standard deviation: 0.45564765\n",
      "Pickling C:\\Users\\geoff\\Desktop\\fulll_aix\\developers\\DataScience\\.\\notMNIST_large\\.\\notMNIST_large\\E.pickle.\n",
      "C:\\Users\\geoff\\Desktop\\fulll_aix\\developers\\DataScience\\.\\notMNIST_large\\.\\notMNIST_large\\E\n",
      "Full dataset tensor: (52912, 28, 28)\n",
      "Mean: -0.06989899\n",
      "Standard deviation: 0.45294195\n",
      "Pickling C:\\Users\\geoff\\Desktop\\fulll_aix\\developers\\DataScience\\.\\notMNIST_large\\.\\notMNIST_large\\F.pickle.\n",
      "C:\\Users\\geoff\\Desktop\\fulll_aix\\developers\\DataScience\\.\\notMNIST_large\\.\\notMNIST_large\\F\n",
      "Full dataset tensor: (52912, 28, 28)\n",
      "Mean: -0.1255833\n",
      "Standard deviation: 0.44708964\n",
      "Pickling C:\\Users\\geoff\\Desktop\\fulll_aix\\developers\\DataScience\\.\\notMNIST_large\\.\\notMNIST_large\\G.pickle.\n",
      "C:\\Users\\geoff\\Desktop\\fulll_aix\\developers\\DataScience\\.\\notMNIST_large\\.\\notMNIST_large\\G\n",
      "Full dataset tensor: (52912, 28, 28)\n",
      "Mean: -0.09458135\n",
      "Standard deviation: 0.44623983\n",
      "Pickling C:\\Users\\geoff\\Desktop\\fulll_aix\\developers\\DataScience\\.\\notMNIST_large\\.\\notMNIST_large\\H.pickle.\n",
      "C:\\Users\\geoff\\Desktop\\fulll_aix\\developers\\DataScience\\.\\notMNIST_large\\.\\notMNIST_large\\H\n",
      "Full dataset tensor: (52912, 28, 28)\n",
      "Mean: -0.06852206\n",
      "Standard deviation: 0.45423177\n",
      "Pickling C:\\Users\\geoff\\Desktop\\fulll_aix\\developers\\DataScience\\.\\notMNIST_large\\.\\notMNIST_large\\I.pickle.\n",
      "C:\\Users\\geoff\\Desktop\\fulll_aix\\developers\\DataScience\\.\\notMNIST_large\\.\\notMNIST_large\\I\n",
      "Full dataset tensor: (52912, 28, 28)\n",
      "Mean: 0.03078625\n",
      "Standard deviation: 0.46889907\n",
      "Pickling C:\\Users\\geoff\\Desktop\\fulll_aix\\developers\\DataScience\\.\\notMNIST_large\\.\\notMNIST_large\\J.pickle.\n",
      "C:\\Users\\geoff\\Desktop\\fulll_aix\\developers\\DataScience\\.\\notMNIST_large\\.\\notMNIST_large\\J\n",
      "Full dataset tensor: (52911, 28, 28)\n",
      "Mean: -0.15335836\n",
      "Standard deviation: 0.44365644\n",
      "Pickling C:\\Users\\geoff\\Desktop\\fulll_aix\\developers\\DataScience\\.\\notMNIST_small\\.\\notMNIST_small\\A.pickle.\n",
      "C:\\Users\\geoff\\Desktop\\fulll_aix\\developers\\DataScience\\.\\notMNIST_small\\.\\notMNIST_small\\A\n",
      "Could not read: C:\\Users\\geoff\\Desktop\\fulll_aix\\developers\\DataScience\\.\\notMNIST_small\\.\\notMNIST_small\\A\\RGVtb2NyYXRpY2FCb2xkT2xkc3R5bGUgQm9sZC50dGY=.png : Could not find a format to read the specified file in single-image mode - it's ok, skipping.\n",
      "Full dataset tensor: (1872, 28, 28)\n",
      "Mean: -0.13262637\n",
      "Standard deviation: 0.44512793\n",
      "Pickling C:\\Users\\geoff\\Desktop\\fulll_aix\\developers\\DataScience\\.\\notMNIST_small\\.\\notMNIST_small\\B.pickle.\n",
      "C:\\Users\\geoff\\Desktop\\fulll_aix\\developers\\DataScience\\.\\notMNIST_small\\.\\notMNIST_small\\B\n",
      "Full dataset tensor: (1873, 28, 28)\n",
      "Mean: 0.005356085\n",
      "Standard deviation: 0.45711532\n",
      "Pickling C:\\Users\\geoff\\Desktop\\fulll_aix\\developers\\DataScience\\.\\notMNIST_small\\.\\notMNIST_small\\C.pickle.\n",
      "C:\\Users\\geoff\\Desktop\\fulll_aix\\developers\\DataScience\\.\\notMNIST_small\\.\\notMNIST_small\\C\n",
      "Full dataset tensor: (1873, 28, 28)\n",
      "Mean: -0.1415206\n",
      "Standard deviation: 0.4426903\n",
      "Pickling C:\\Users\\geoff\\Desktop\\fulll_aix\\developers\\DataScience\\.\\notMNIST_small\\.\\notMNIST_small\\D.pickle.\n",
      "C:\\Users\\geoff\\Desktop\\fulll_aix\\developers\\DataScience\\.\\notMNIST_small\\.\\notMNIST_small\\D\n",
      "Full dataset tensor: (1873, 28, 28)\n",
      "Mean: -0.04921666\n",
      "Standard deviation: 0.4597589\n",
      "Pickling C:\\Users\\geoff\\Desktop\\fulll_aix\\developers\\DataScience\\.\\notMNIST_small\\.\\notMNIST_small\\E.pickle.\n",
      "C:\\Users\\geoff\\Desktop\\fulll_aix\\developers\\DataScience\\.\\notMNIST_small\\.\\notMNIST_small\\E\n",
      "Full dataset tensor: (1873, 28, 28)\n",
      "Mean: -0.05991479\n",
      "Standard deviation: 0.45734963\n",
      "Pickling C:\\Users\\geoff\\Desktop\\fulll_aix\\developers\\DataScience\\.\\notMNIST_small\\.\\notMNIST_small\\F.pickle.\n",
      "C:\\Users\\geoff\\Desktop\\fulll_aix\\developers\\DataScience\\.\\notMNIST_small\\.\\notMNIST_small\\F\n",
      "Could not read: C:\\Users\\geoff\\Desktop\\fulll_aix\\developers\\DataScience\\.\\notMNIST_small\\.\\notMNIST_small\\F\\Q3Jvc3NvdmVyIEJvbGRPYmxpcXVlLnR0Zg==.png : Could not find a format to read the specified file in single-image mode - it's ok, skipping.\n",
      "Full dataset tensor: (1872, 28, 28)\n",
      "Mean: -0.118185304\n",
      "Standard deviation: 0.45227867\n",
      "Pickling C:\\Users\\geoff\\Desktop\\fulll_aix\\developers\\DataScience\\.\\notMNIST_small\\.\\notMNIST_small\\G.pickle.\n",
      "C:\\Users\\geoff\\Desktop\\fulll_aix\\developers\\DataScience\\.\\notMNIST_small\\.\\notMNIST_small\\G\n",
      "Full dataset tensor: (1872, 28, 28)\n",
      "Mean: -0.09255028\n",
      "Standard deviation: 0.44900584\n",
      "Pickling C:\\Users\\geoff\\Desktop\\fulll_aix\\developers\\DataScience\\.\\notMNIST_small\\.\\notMNIST_small\\H.pickle.\n",
      "C:\\Users\\geoff\\Desktop\\fulll_aix\\developers\\DataScience\\.\\notMNIST_small\\.\\notMNIST_small\\H\n",
      "Full dataset tensor: (1872, 28, 28)\n",
      "Mean: -0.05868925\n",
      "Standard deviation: 0.45875895\n",
      "Pickling C:\\Users\\geoff\\Desktop\\fulll_aix\\developers\\DataScience\\.\\notMNIST_small\\.\\notMNIST_small\\I.pickle.\n",
      "C:\\Users\\geoff\\Desktop\\fulll_aix\\developers\\DataScience\\.\\notMNIST_small\\.\\notMNIST_small\\I\n",
      "Full dataset tensor: (1872, 28, 28)\n",
      "Mean: 0.05264507\n",
      "Standard deviation: 0.47189355\n",
      "Pickling C:\\Users\\geoff\\Desktop\\fulll_aix\\developers\\DataScience\\.\\notMNIST_small\\.\\notMNIST_small\\J.pickle.\n",
      "C:\\Users\\geoff\\Desktop\\fulll_aix\\developers\\DataScience\\.\\notMNIST_small\\.\\notMNIST_small\\J\n",
      "Full dataset tensor: (1872, 28, 28)\n",
      "Mean: -0.15168911\n",
      "Standard deviation: 0.44801357\n"
     ]
    }
   ],
   "source": [
    "image_size = 28  # Pixel width and height.\n",
    "pixel_depth = 255.0  # Number of levels per pixel.\n",
    "\n",
    "def load_letters(folder, min_num_images):\n",
    "  \"\"\"Load the data for a single letter label.\"\"\"\n",
    "  image_files = os.listdir(folder)\n",
    "  dataset = np.ndarray(shape=(len(image_files), image_size, image_size),\n",
    "                         dtype=np.float32)\n",
    "  print(folder)\n",
    "  num_images = 0\n",
    "  for image in image_files:\n",
    "    image_file = os.path.join(folder, image)\n",
    "    try:\n",
    "      image_data = (imageio.imread(image_file).astype(float) - \n",
    "                    pixel_depth / 2) / pixel_depth\n",
    "      if image_data.shape != (image_size, image_size):\n",
    "        raise Exception('Unexpected image shape: %s' % str(image_data.shape))\n",
    "      dataset[num_images, :, :] = image_data\n",
    "      num_images = num_images + 1\n",
    "    except IOError as e:\n",
    "      print('Could not read:', image_file, ':', e, '- it\\'s ok, skipping.')\n",
    "    except ValueError as e:\n",
    "      print('Could not read:', image_file, ':', e, '- it\\'s ok, skipping.')\n",
    "    \n",
    "    \n",
    "  dataset = dataset[0:num_images, :, :]\n",
    "  if num_images < min_num_images:\n",
    "    raise Exception('Many fewer images than expected: %d < %d' %\n",
    "                    (num_images, min_num_images))\n",
    "    \n",
    "  print('Full dataset tensor:', dataset.shape)\n",
    "  print('Mean:', np.mean(dataset))\n",
    "  print('Standard deviation:', np.std(dataset))\n",
    "  return dataset\n",
    "        \n",
    "def pickle(data_folders, min_num_images_per_class, force=False):\n",
    "  dataset_names = []\n",
    "  for folder in data_folders:\n",
    "    set_filename = folder + '.pickle'\n",
    "    dataset_names.append(set_filename)\n",
    "    if os.path.exists(set_filename) and not force:\n",
    "      # You may override by setting force=True.\n",
    "      print('%s already present - Skipping pickling.' % set_filename)\n",
    "    else:\n",
    "      print('Pickling %s.' % set_filename)\n",
    "      dataset = load_letters(folder, min_num_images_per_class)\n",
    "      try:\n",
    "        with open(set_filename, 'wb') as f:\n",
    "          pkl.dump(dataset, f, pkl.HIGHEST_PROTOCOL)\n",
    "      except Exception as e:\n",
    "        print('Unable to save data to', set_filename, ':', e)\n",
    "  \n",
    "  return dataset_names\n",
    "\n",
    "train_datasets = pickle(train_folders, 45000)\n",
    "test_datasets = pickle(test_folders, 1800)"
   ]
  },
  {
   "cell_type": "markdown",
   "metadata": {},
   "source": [
    "## Problem 2\n",
    "Verify that the data still looks good. Displaying a sample of the labels and images from the ndarray."
   ]
  },
  {
   "cell_type": "code",
   "execution_count": 7,
   "metadata": {},
   "outputs": [
    {
     "data": {
      "image/png": "[encoded data removed]",
      "text/plain": [
       "<Figure size 864x432 with 10 Axes>"
      ]
     },
     "metadata": {
      "needs_background": "light"
     },
     "output_type": "display_data"
    }
   ],
   "source": [
    "# Let's import some images from the pickle files and make sure that the previous operations did not disturb the nature of the images and the label associated with them.\n",
    "\n",
    "# Train dataset\n",
    "samples = []\n",
    "# Gonna go through each pickle file to extract the label and a random image array\n",
    "for pkl_path in train_datasets:\n",
    "    # Loading the pickle file\n",
    "    with open(pkl_path,\"rb\") as f:\n",
    "        pkl_data = pkl.load(f)\n",
    "    # Generating a random index \n",
    "    random_value = np.random.randint(low=0, high=pkl_data.shape[0], size=1,)[0]\n",
    "    current_label = pkl_path.split(\".\")[-2][-1]\n",
    "    # Appending the current label, random image array tuple to a list\n",
    "    samples.append((current_label,pkl_data[random_value,:,:]))\n",
    "\n",
    "# Plotting the sampled images\n",
    "plt_sample(samples)"
   ]
  },
  {
   "cell_type": "code",
   "execution_count": 8,
   "metadata": {},
   "outputs": [
    {
     "data": {
      "image/png": "[encoded data removed]",
      "text/plain": [
       "<Figure size 864x432 with 10 Axes>"
      ]
     },
     "metadata": {
      "needs_background": "light"
     },
     "output_type": "display_data"
    }
   ],
   "source": [
    "# Test dataset\n",
    "samples = []\n",
    "# Gonna go through each pickle file to extract the label and a random image array\n",
    "for pkl_path in test_datasets:\n",
    "    # Loading the pickle file\n",
    "    with open(pkl_path,\"rb\") as f:\n",
    "        pkl_data = pkl.load(f) \n",
    "    # Generating a random index \n",
    "    random_value = np.random.randint(low=0, high=pkl_data.shape[0], size=1,)[0]\n",
    "    current_label = pkl_path.split(\".\")[-2][-1]\n",
    "    # Appending the current label, random image array tuple to a list\n",
    "    samples.append((current_label,pkl_data[random_value,:,:]))\n",
    "\n",
    "# Plotting the sampled images   \n",
    "plt_sample(samples)"
   ]
  },
  {
   "cell_type": "code",
   "execution_count": 9,
   "metadata": {},
   "outputs": [],
   "source": [
    "# As we can see, for both the dataset, the images are still the one corresponding to their expected label. The previous operations does not seem to have disturbed the nature of the images or the folder the belong to."
   ]
  },
  {
   "cell_type": "markdown",
   "metadata": {},
   "source": [
    "## Problem 3\n",
    "Another check: Verify that the data is balanced across classes. "
   ]
  },
  {
   "cell_type": "code",
   "execution_count": 10,
   "metadata": {},
   "outputs": [
    {
     "name": "stdout",
     "output_type": "stream",
     "text": [
      "For the train dataset\n",
      " The Number of images for label A is : 52909\n",
      " The Number of images for label B is : 52911\n",
      " The Number of images for label C is : 52912\n",
      " The Number of images for label D is : 52911\n",
      " The Number of images for label E is : 52912\n",
      " The Number of images for label F is : 52912\n",
      " The Number of images for label G is : 52912\n",
      " The Number of images for label H is : 52912\n",
      " The Number of images for label I is : 52912\n",
      " The Number of images for label J is : 52911\n"
     ]
    }
   ],
   "source": [
    "# Let's load the different pickle files for test and train and check the number of images per classes\n",
    "print(\"For the train dataset\")\n",
    "for pkl_path in train_datasets:\n",
    "    with open(pkl_path,\"rb\") as f:\n",
    "        pkl_data = pkl.load(f) \n",
    "    current_label = pkl_path.split(\".\")[-2][-1]\n",
    "    print(f\" The Number of images for label {current_label} is : {pkl_data.shape[0]}\" )"
   ]
  },
  {
   "cell_type": "code",
   "execution_count": 11,
   "metadata": {},
   "outputs": [
    {
     "name": "stdout",
     "output_type": "stream",
     "text": [
      "For the test dataset\n",
      " The Number of images for label A is : 1872\n",
      " The Number of images for label B is : 1873\n",
      " The Number of images for label C is : 1873\n",
      " The Number of images for label D is : 1873\n",
      " The Number of images for label E is : 1873\n",
      " The Number of images for label F is : 1872\n",
      " The Number of images for label G is : 1872\n",
      " The Number of images for label H is : 1872\n",
      " The Number of images for label I is : 1872\n",
      " The Number of images for label J is : 1872\n"
     ]
    }
   ],
   "source": [
    "print(\"For the test dataset\")\n",
    "for pkl_path in test_datasets:\n",
    "    with open(pkl_path,\"rb\") as f:\n",
    "        pkl_data = pkl.load(f) \n",
    "    current_label = pkl_path.split(\".\")[-2][-1]\n",
    "    print(f\" The Number of images for label {current_label} is : {pkl_data.shape[0]}\" )"
   ]
  },
  {
   "cell_type": "code",
   "execution_count": 12,
   "metadata": {},
   "outputs": [],
   "source": [
    "# The dataset is clearly balance accross classes for the test dataset and the train dataset. Indeed most classes share the same number of images besides for a few that are missing one."
   ]
  },
  {
   "cell_type": "markdown",
   "metadata": {},
   "source": [
    "\n",
    "Merge and prune the training data as needed. Depending on your computer setup, you might not be able to fit it all in memory, and you can tune train_size as needed. The labels will be stored into a separate array of integers 0 through 9.\n",
    "\n",
    "Also create a validation dataset for hyperparameter tuning."
   ]
  },
  {
   "cell_type": "code",
   "execution_count": 13,
   "metadata": {},
   "outputs": [
    {
     "name": "stdout",
     "output_type": "stream",
     "text": [
      "Training: (200000, 28, 28) (200000,)\n",
      "Validation: (10000, 28, 28) (10000,)\n",
      "Testing: (10000, 28, 28) (10000,)\n"
     ]
    }
   ],
   "source": [
    "# Here, we are going to select a size for our train, validation and test dataset and every class will a a number of images equal to the dataset size/ number of classes\n",
    "# For example \n",
    "# Sizes\n",
    "train_size = 200000\n",
    "valid_size = 10000\n",
    "test_size = 10000\n",
    "\n",
    "# A label dictionary to convert the label name to an int\n",
    "label_dict = {\"A\":0,\"B\":1,\"C\":2,\"D\":3,\"E\":4,\"F\":5,\"G\":6,\"H\":7,\"I\":8,\"J\":9,}\n",
    "# Calculating the number of images per  class base on the target dataset size\n",
    "img_per_class_train = train_size//len(label_dict)\n",
    "img_per_class_val = valid_size//len(label_dict)\n",
    "total_img_per_class = img_per_class_train+img_per_class_val\n",
    "img_per_class_test = test_size//len(label_dict)\n",
    "\n",
    "# For train and val\n",
    "train_list = []\n",
    "val_list = []\n",
    "train_labels = []\n",
    "valid_labels = []\n",
    "# Gonna go through each pickle file to sample randomly the requiered number of images and their labels\n",
    "for pkl_path in train_datasets:\n",
    "    # Loading the pickle file\n",
    "    with open(pkl_path,\"rb\") as f:\n",
    "        pkl_data = pkl.load(f)\n",
    "    # Generating index to randomly sample images for the training set and validation set\n",
    "    random_values = np.random.randint(low=0, high=pkl_data.shape[0], size=total_img_per_class,)\n",
    "    current_label = pkl_path.split(\".\")[-2][-1]\n",
    "    # Extracting the images from this class for the validation and training datasets\n",
    "    val_train_data = pkl_data[random_values,:,:]\n",
    "    # Extracting the images from this class for the training set\n",
    "    train_sample = val_train_data[:img_per_class_train,:,:]\n",
    "    # Extracting the images from this class for the validation set\n",
    "    val_sample = val_train_data[-img_per_class_val:,:,:]\n",
    "    \n",
    "    train_list.append(train_sample)\n",
    "    val_list.append(val_sample)\n",
    "    # Building a list for the sample labels for the training and validation datasets\n",
    "    train_labels = train_labels + [label_dict[current_label]]*img_per_class_train\n",
    "    valid_labels = valid_labels + [label_dict[current_label]]*img_per_class_val\n",
    "    \n",
    "# Concatenating the different dataset list per class to get a training and valisation array for all the classes\n",
    "train_dataset = np.concatenate(train_list,axis=0)\n",
    "valid_dataset = np.concatenate(val_list,axis=0)\n",
    "# Converting the label lists to arrays\n",
    "train_labels = np.array(train_labels)\n",
    "valid_labels = np.array(valid_labels)\n",
    "\n",
    "# For the test dataset\n",
    "# Here, we are doing the same thing but for the testset. The only difference is that there is no need to extract 2 datasets\n",
    "test_list = []\n",
    "test_labels = []\n",
    "for pkl_path in test_datasets:\n",
    "    with open(pkl_path,\"rb\") as f:\n",
    "        pkl_data = pkl.load(f) \n",
    "    random_values = np.random.randint(low=0, high=pkl_data.shape[0], size=img_per_class_test,)\n",
    "    current_label = pkl_path.split(\".\")[-2][-1]\n",
    "    \n",
    "    test_data = pkl_data[random_values,:,:]\n",
    "    \n",
    "    test_list.append(test_data)\n",
    "    \n",
    "    test_labels = test_labels + [label_dict[current_label]]*img_per_class_test\n",
    "\n",
    "test_dataset = np.concatenate(test_list,axis=0)\n",
    "\n",
    "test_labels = np.array(test_labels)\n",
    "\n",
    "\n",
    "print('Training:', train_dataset.shape, train_labels.shape)\n",
    "print('Validation:', valid_dataset.shape, valid_labels.shape)\n",
    "print('Testing:', test_dataset.shape, test_labels.shape)"
   ]
  },
  {
   "cell_type": "markdown",
   "metadata": {},
   "source": [
    "Next, we'll randomize the data. It's important to have the labels well shuffled for the training and test distributions to match.\n",
    "\n"
   ]
  },
  {
   "cell_type": "code",
   "execution_count": 21,
   "metadata": {},
   "outputs": [],
   "source": [
    "def randomize(dataset, labels):\n",
    "  permutation = np.random.permutation(labels.shape[0])\n",
    "  shuffled_dataset = dataset[permutation,:,:]\n",
    "  shuffled_labels = labels[permutation]\n",
    "  return shuffled_dataset, shuffled_labels\n",
    "train_dataset, train_labels = randomize(train_dataset, train_labels)\n",
    "test_dataset, test_labels = randomize(test_dataset, test_labels)\n",
    "valid_dataset, valid_labels = randomize(valid_dataset, valid_labels)"
   ]
  },
  {
   "cell_type": "markdown",
   "metadata": {},
   "source": [
    "## Problem 4\n",
    "Convince yourself that the data is still good after shuffling!\n",
    "\n"
   ]
  },
  {
   "cell_type": "code",
   "execution_count": 22,
   "metadata": {},
   "outputs": [],
   "source": [
    "# Let's as previously extract label and images arrays randomly and check if the are corresponding."
   ]
  },
  {
   "cell_type": "code",
   "execution_count": 23,
   "metadata": {},
   "outputs": [],
   "source": [
    "def check_shuffle_effect(dataset,labels_list,label_dict=label_dict):\n",
    "    \"\"\" Plot the shuffle images to make sure the label is the right one\"\"\"\n",
    "    # Getting a random sample of indexes\n",
    "    random_values = np.random.randint(low=0, high=dataset.shape[0], size=len(label_dict))\n",
    "    # Reversing the label_dict to display the label names\n",
    "    idx2label = {j:i for i,j in label_dict.items()}\n",
    "    samples = [(idx2label[labels_list[i]],dataset[i,:,:]) for i in random_values]\n",
    "    # Ploting\n",
    "    plt_sample(samples)"
   ]
  },
  {
   "cell_type": "code",
   "execution_count": 24,
   "metadata": {},
   "outputs": [
    {
     "name": "stdout",
     "output_type": "stream",
     "text": [
      "For the train dataset\n"
     ]
    },
    {
     "data": {
      "image/png": "[encoded data removed]",
      "text/plain": [
       "<Figure size 864x432 with 10 Axes>"
      ]
     },
     "metadata": {
      "needs_background": "light"
     },
     "output_type": "display_data"
    }
   ],
   "source": [
    "print(\"For the train dataset\")\n",
    "check_shuffle_effect(dataset=train_dataset,labels_list=train_labels)"
   ]
  },
  {
   "cell_type": "code",
   "execution_count": 25,
   "metadata": {},
   "outputs": [
    {
     "name": "stdout",
     "output_type": "stream",
     "text": [
      "For the valid dataset\n"
     ]
    },
    {
     "data": {
      "image/png": "[encoded data removed]",
      "text/plain": [
       "<Figure size 864x432 with 10 Axes>"
      ]
     },
     "metadata": {
      "needs_background": "light"
     },
     "output_type": "display_data"
    }
   ],
   "source": [
    "print(\"For the valid dataset\")\n",
    "check_shuffle_effect(dataset=valid_dataset,labels_list=valid_labels)"
   ]
  },
  {
   "cell_type": "code",
   "execution_count": 26,
   "metadata": {},
   "outputs": [
    {
     "name": "stdout",
     "output_type": "stream",
     "text": [
      "For the test dataset\n"
     ]
    },
    {
     "data": {
      "image/png": "[encoded data removed]",
      "text/plain": [
       "<Figure size 864x432 with 10 Axes>"
      ]
     },
     "metadata": {
      "needs_background": "light"
     },
     "output_type": "display_data"
    }
   ],
   "source": [
    "print(\"For the test dataset\")\n",
    "check_shuffle_effect(dataset=test_dataset,labels_list=test_labels)"
   ]
  },
  {
   "cell_type": "code",
   "execution_count": 27,
   "metadata": {},
   "outputs": [],
   "source": [
    "# The images displayed and the label seems to be the right one. Some cases are a bit dodgy but that must be a proper to the way the dataset was generated."
   ]
  },
  {
   "cell_type": "markdown",
   "metadata": {},
   "source": [
    "Save the data for later reuse:\n",
    "\n"
   ]
  },
  {
   "cell_type": "code",
   "execution_count": 28,
   "metadata": {},
   "outputs": [],
   "source": [
    "\n",
    "pickle_file = os.path.join(data_root, 'notMNIST.pickle')\n",
    "\n",
    "try:\n",
    "    all_data_dict = {\"train\": {\"data\":train_dataset,\"label\":train_labels},\n",
    "                    \"val\":{\"data\":valid_dataset,\"label\":valid_labels},\n",
    "                    \"test\":{\"data\":test_dataset,\"label\":test_labels}\n",
    "                    }\n",
    "    \n",
    "    with open(pickle_file, 'wb') as f:\n",
    "        pkl.dump(all_data_dict, f, pkl.HIGHEST_PROTOCOL)\n",
    "\n",
    "except Exception as e:\n",
    "  print('Unable to save data to', pickle_file, ':', e)\n",
    "  raise"
   ]
  },
  {
   "cell_type": "code",
   "execution_count": 29,
   "metadata": {},
   "outputs": [
    {
     "name": "stdout",
     "output_type": "stream",
     "text": [
      "Compressed pickle size: 690800403\n"
     ]
    }
   ],
   "source": [
    "statinfo = os.stat(pickle_file)\n",
    "print('Compressed pickle size:', statinfo.st_size)"
   ]
  },
  {
   "cell_type": "markdown",
   "metadata": {},
   "source": [
    "## Problem 5\n",
    "By construction, this dataset might contain a lot of overlapping samples, including training data that's also contained in the validation and test set. Measure how much overlap there is between training, validation and test samples.\n",
    "\n",
    "Optional questions:\n",
    "\n",
    "What about near duplicates between datasets? (images that are almost identical)\n",
    "Create a sanitized validation and test set, and compare your accuracy on those in subsequent questions."
   ]
  },
  {
   "cell_type": "code",
   "execution_count": null,
   "metadata": {},
   "outputs": [],
   "source": [
    "# I'm not running this cell because it's will clearly take to much time in its actual form. This function should be improve with the use of the map function maybe or some caching or even multiprocessing. But, I rather not waste time on that right now.\n",
    "# I will come back to it if I have time some time left.\n",
    "\n",
    "def sample_duplicate(dataset1,dataset2):\n",
    "    \"\"\" Check the number of duplicate between 2 datasets \"\"\"\n",
    "    duplicate_index = []\n",
    "    percent_done = 0\n",
    "    # Comparing each image array from dataset1 to each image array in dataset2\n",
    "    for i in range(dataset1.shape[0]):\n",
    "        sample1 = dataset1[i,:,:]\n",
    "        for j in range(dataset2.shape[0]):\n",
    "            sample2 = dataset2[j,:,:]\n",
    "            obvs = sample1 == sample2\n",
    "            # Checking if all pixels are equal\n",
    "            if np.sum(obvs) == dataset1.shape[1]*dataset1.shape[2]:\n",
    "                duplicate_index.append(i)\n",
    "        # Tracking the progress    \n",
    "        percent_done = (i*100)/dataset1.shape[0]\n",
    "\n",
    "        if percent_done % 5 == 0:\n",
    "            sys.stdout.write(\"...%s%%\" % percent_done)\n",
    "            sys.stdout.flush()\n",
    "    return duplicate_index\n",
    "\n",
    "train_in_train_dup = sample_duplicate(train_dataset,train_dataset)\n",
    "train_in_val_dup = sample_duplicate(train_dataset,valid_dataset)\n",
    "train_in_test_dup = sample_duplicate(train_dataset,test_dataset)\n",
    "\n",
    "# Should render something like\n",
    "print(f\"Duplicates inside training set:  {len(train_in_train_dup)}\"\n",
    "print(f\"Duplicates between training and validation:  {len(train_in_val_dup)}\"\n",
    "print(f\"Duplicates between training and test:  {len(train_in_test_dup)}\""
   ]
  },
  {
   "cell_type": "code",
   "execution_count": 30,
   "metadata": {},
   "outputs": [],
   "source": [
    "# To check for near duplicate, I would need to add a tolerance level for the value of the sum. For example, we know that if its a duplicate, then the sum of the test between 2 images is 784 for 28 by 28 images. But for example, with a 5% level of tolerance\n",
    "# a value of 758 or more would be suggesting that the images are duplicates. I would come back to it if I have time left."
   ]
  },
  {
   "cell_type": "markdown",
   "metadata": {},
   "source": [
    "## Problem 6\n",
    "Let's get an idea of what an off-the-shelf classifier can give you on this data. It's always good to check that there is something to learn, and that it's a problem that is not so trivial that a canned solution solves it.\n",
    "\n",
    "Train a simple model on this data using 50, 100, 1000 and 5000 training samples. Hint: you can use the LogisticRegression model from sklearn.linear_model."
   ]
  },
  {
   "cell_type": "code",
   "execution_count": 33,
   "metadata": {},
   "outputs": [],
   "source": [
    "from sklearn.linear_model import LogisticRegression\n",
    "def get_sample_model(train_data,train_label,test_data,test_label,sample_size):\n",
    "    # Getting the sample\n",
    "    for size in sample_size:\n",
    "        random_values = np.random.randint(low=0, high=train_data.shape[0], size=size)\n",
    "        X_train = train_data[random_values,:,:]\n",
    "        # Need to flatten the images because the LogisticRegression algorithm is expecting 2 dim array\n",
    "        X_train_flatten = X_train.reshape(X_train.shape[0],X_train.shape[1]*X_train.shape[2])\n",
    "        y_train = train_label[random_values]\n",
    "        X_test_flatten = test_data.reshape(test_data.shape[0],test_data.shape[1]*test_data.shape[2])\n",
    "        # Model\n",
    "        clf = LogisticRegression(random_state=0)\n",
    "        clf.fit(X_train_flatten,y_train)\n",
    "        train_score = clf.score(X_train_flatten,y_train)\n",
    "        test_score = clf.score(X_test_flatten,test_label)\n",
    "        \n",
    "        print(f\"*-*-*-*-* Train data size : {size} *-*-*-*-*\")\n",
    "        print('Training score = ', train_score)\n",
    "        print('Test score = ', test_score)"
   ]
  },
  {
   "cell_type": "code",
   "execution_count": 34,
   "metadata": {
    "tags": []
   },
   "outputs": [
    {
     "name": "stdout",
     "output_type": "stream",
     "text": [
      "*-*-*-*-* Train data size : 50 *-*-*-*-*\n",
      "Training score =  1.0\n",
      "Test score =  0.6546\n",
      "*-*-*-*-* Train data size : 100 *-*-*-*-*\n",
      "Training score =  1.0\n",
      "Test score =  0.7575\n"
     ]
    },
    {
     "name": "stderr",
     "output_type": "stream",
     "text": [
      "C:\\Users\\geoff\\anaconda3\\envs\\myenv\\lib\\site-packages\\sklearn\\linear_model\\_logistic.py:763: ConvergenceWarning: lbfgs failed to converge (status=1):\n",
      "STOP: TOTAL NO. of ITERATIONS REACHED LIMIT.\n",
      "\n",
      "Increase the number of iterations (max_iter) or scale the data as shown in:\n",
      "    https://scikit-learn.org/stable/modules/preprocessing.html\n",
      "Please also refer to the documentation for alternative solver options:\n",
      "    https://scikit-learn.org/stable/modules/linear_model.html#logistic-regression\n",
      "  n_iter_i = _check_optimize_result(\n",
      "C:\\Users\\geoff\\anaconda3\\envs\\myenv\\lib\\site-packages\\sklearn\\linear_model\\_logistic.py:763: ConvergenceWarning: lbfgs failed to converge (status=1):\n",
      "STOP: TOTAL NO. of ITERATIONS REACHED LIMIT.\n",
      "\n",
      "Increase the number of iterations (max_iter) or scale the data as shown in:\n",
      "    https://scikit-learn.org/stable/modules/preprocessing.html\n",
      "Please also refer to the documentation for alternative solver options:\n",
      "    https://scikit-learn.org/stable/modules/linear_model.html#logistic-regression\n",
      "  n_iter_i = _check_optimize_result(\n"
     ]
    },
    {
     "name": "stdout",
     "output_type": "stream",
     "text": [
      "*-*-*-*-* Train data size : 1000 *-*-*-*-*\n",
      "Training score =  1.0\n",
      "Test score =  0.8412\n",
      "*-*-*-*-* Train data size : 5000 *-*-*-*-*\n",
      "Training score =  0.972\n",
      "Test score =  0.8374\n"
     ]
    },
    {
     "name": "stderr",
     "output_type": "stream",
     "text": [
      "C:\\Users\\geoff\\anaconda3\\envs\\myenv\\lib\\site-packages\\sklearn\\linear_model\\_logistic.py:763: ConvergenceWarning: lbfgs failed to converge (status=1):\n",
      "STOP: TOTAL NO. of ITERATIONS REACHED LIMIT.\n",
      "\n",
      "Increase the number of iterations (max_iter) or scale the data as shown in:\n",
      "    https://scikit-learn.org/stable/modules/preprocessing.html\n",
      "Please also refer to the documentation for alternative solver options:\n",
      "    https://scikit-learn.org/stable/modules/linear_model.html#logistic-regression\n",
      "  n_iter_i = _check_optimize_result(\n"
     ]
    }
   ],
   "source": [
    "get_sample_model(train_dataset,train_labels,test_dataset,test_labels,[50,100,1000,5000])"
   ]
  },
  {
   "cell_type": "code",
   "execution_count": null,
   "metadata": {},
   "outputs": [],
   "source": [
    "# We can clearly see that with more data, the model is giving better result on the test data. The Training score of 1 should not really be taken in account because with such small sample the model is going to overfit. Nevertheless, clearly here, there is something to learn\n",
    "# with more data, more tuning or a better model."
   ]
  },
  {
   "cell_type": "markdown",
   "metadata": {},
   "source": [
    "## Problem 7\n",
    "Going on step deeper. \n",
    "Please propose a model of your choice.\n",
    "If you run out of time, you do not have to implement the full code, but explain the steps you need to implement and every parameter choice you make."
   ]
  },
  {
   "cell_type": "markdown",
   "metadata": {},
   "source": [
    "We first need to reformat the data\n",
    "\n",
    "Reformat into a shape that's more adapted to the models we're going to train:\n",
    "\n",
    " - data as a flat matrix,\n",
    " - labels as float 1-hot encodings."
   ]
  },
  {
   "cell_type": "code",
   "execution_count": 35,
   "metadata": {},
   "outputs": [],
   "source": [
    "# I'm going for a neural network here because it's known to have good result with the Minst dataset and this one look a lot like it. Also it should be fast and easy to tune for this dataset\n",
    "# Here, we are expanding the dimension of the datasets to adapt to the format expected by Tensorflow : batch_shape + (rows, cols, channels) with data_format='channels_last' in the convolutional Layer\n",
    "\n",
    "train_nn = np.expand_dims(train_dataset,axis = -1)\n",
    "val_nn = np.expand_dims(valid_dataset,axis = -1)\n",
    "test_nn = np.expand_dims(test_dataset,axis = -1)\n",
    "\n",
    "# Label hot encoding \n",
    "y_train = tf.one_hot(train_labels,depth=len(label_dict))\n",
    "y_val = tf.one_hot(valid_labels,depth=len(label_dict))\n",
    "y_test = tf.one_hot(test_labels,depth=len(label_dict))\n"
   ]
  },
  {
   "cell_type": "markdown",
   "metadata": {},
   "source": [
    "You can choose a simple multinomial logistic regression using simple gradient descent, or any other multi layer version. Just don't  overengineer and make sure that this model improves your validation / test accuracy from previous problems."
   ]
  },
  {
   "cell_type": "code",
   "execution_count": 36,
   "metadata": {},
   "outputs": [],
   "source": [
    "# Let's build our model\n",
    "\n",
    "model = tf.keras.models.Sequential()\n",
    "\n",
    "# Convolutional Layer\n",
    "model.add(tf.keras.layers.Conv2D(filters=32, kernel_size=(4,4),input_shape=(28, 28, 1), activation='relu',data_format='channels_last'))\n",
    "# Pooling layer\n",
    "model.add(tf.keras.layers.MaxPool2D(pool_size=(2, 2)))\n",
    "\n",
    "# Flattening the images to be able to input them in a dense layer\n",
    "model.add(tf.keras.layers.Flatten())\n",
    "\n",
    "# A Dense layer with 128 neurons (Hidden layer)\n",
    "model.add(tf.keras.layers.Dense(128, activation='relu'))\n",
    "\n",
    "# The dense layer that those the classification with 10 neurons as we got 10 classes\n",
    "model.add(tf.keras.layers.Dense(10, activation='softmax'))\n",
    "\n",
    "# I'm using the categorical_crossentropy loss function because we are dealing with a multiclassification issue and this function will punish the model more when it is confident when it is wrong. We should then have more robust results.\n",
    "model.compile(loss='categorical_crossentropy',\n",
    "              optimizer='rmsprop',\n",
    "              metrics=['accuracy'])"
   ]
  },
  {
   "cell_type": "code",
   "execution_count": 37,
   "metadata": {},
   "outputs": [
    {
     "name": "stdout",
     "output_type": "stream",
     "text": [
      "Model: \"sequential\"\n",
      "_________________________________________________________________\n",
      "Layer (type)                 Output Shape              Param #   \n",
      "=================================================================\n",
      "conv2d (Conv2D)              (None, 25, 25, 32)        544       \n",
      "_________________________________________________________________\n",
      "max_pooling2d (MaxPooling2D) (None, 12, 12, 32)        0         \n",
      "_________________________________________________________________\n",
      "flatten (Flatten)            (None, 4608)              0         \n",
      "_________________________________________________________________\n",
      "dense (Dense)                (None, 128)               589952    \n",
      "_________________________________________________________________\n",
      "dense_1 (Dense)              (None, 10)                1290      \n",
      "=================================================================\n",
      "Total params: 591,786\n",
      "Trainable params: 591,786\n",
      "Non-trainable params: 0\n",
      "_________________________________________________________________\n"
     ]
    }
   ],
   "source": [
    "# A summary of the model\n",
    "model.summary()"
   ]
  },
  {
   "cell_type": "code",
   "execution_count": 38,
   "metadata": {},
   "outputs": [
    {
     "name": "stdout",
     "output_type": "stream",
     "text": [
      "Epoch 1/10\n",
      "6250/6250 [==============================] - 66s 10ms/step - loss: 0.4165 - accuracy: 0.8778 - val_loss: 0.3525 - val_accuracy: 0.8945\n",
      "Epoch 2/10\n",
      "6250/6250 [==============================] - 65s 10ms/step - loss: 0.3294 - accuracy: 0.9038 - val_loss: 0.3488 - val_accuracy: 0.8959\n",
      "Epoch 3/10\n",
      "6250/6250 [==============================] - 64s 10ms/step - loss: 0.3092 - accuracy: 0.9094 - val_loss: 0.3474 - val_accuracy: 0.8955\n",
      "Epoch 4/10\n",
      "6250/6250 [==============================] - 63s 10ms/step - loss: 0.3013 - accuracy: 0.9122 - val_loss: 0.3517 - val_accuracy: 0.8942\n",
      "Epoch 5/10\n",
      "6250/6250 [==============================] - 63s 10ms/step - loss: 0.2954 - accuracy: 0.9143 - val_loss: 0.3589 - val_accuracy: 0.9037\n",
      "Epoch 6/10\n",
      "6250/6250 [==============================] - 65s 10ms/step - loss: 0.2910 - accuracy: 0.9154 - val_loss: 0.3637 - val_accuracy: 0.9004\n",
      "Epoch 7/10\n",
      "6250/6250 [==============================] - 64s 10ms/step - loss: 0.2901 - accuracy: 0.9166 - val_loss: 0.3680 - val_accuracy: 0.8959\n",
      "Epoch 8/10\n",
      "6250/6250 [==============================] - 65s 10ms/step - loss: 0.2898 - accuracy: 0.9179 - val_loss: 0.3700 - val_accuracy: 0.8976\n",
      "Epoch 9/10\n",
      "6250/6250 [==============================] - 65s 10ms/step - loss: 0.2885 - accuracy: 0.9174 - val_loss: 0.3738 - val_accuracy: 0.8945\n",
      "Epoch 10/10\n",
      "6250/6250 [==============================] - 65s 10ms/step - loss: 0.2864 - accuracy: 0.9188 - val_loss: 0.3692 - val_accuracy: 0.8956\n"
     ]
    },
    {
     "data": {
      "text/plain": [
       "<tensorflow.python.keras.callbacks.History at 0x1b1af7446d0>"
      ]
     },
     "execution_count": 38,
     "metadata": {},
     "output_type": "execute_result"
    }
   ],
   "source": [
    "model.fit(train_nn,y_train,epochs=10,validation_data=(val_nn,y_val),batch_size=32)"
   ]
  },
  {
   "cell_type": "code",
   "execution_count": 39,
   "metadata": {},
   "outputs": [],
   "source": [
    "losses = model.history.history"
   ]
  },
  {
   "cell_type": "code",
   "execution_count": 40,
   "metadata": {},
   "outputs": [
    {
     "data": {
      "text/plain": [
       "Text(0.5, 1.0, 'Train loss Vs Val loss')"
      ]
     },
     "execution_count": 40,
     "metadata": {},
     "output_type": "execute_result"
    },
    {
     "data": {
      "image/png": "[encoded data removed]",
      "text/plain": [
       "<Figure size 432x288 with 1 Axes>"
      ]
     },
     "metadata": {
      "needs_background": "light"
     },
     "output_type": "display_data"
    }
   ],
   "source": [
    "plt.plot(losses[\"loss\"],label = \"train loss\")\n",
    "plt.plot(losses[\"val_loss\"], label = \"val_loss\")\n",
    "plt.legend()\n",
    "plt.title(\"Train loss Vs Val loss\")"
   ]
  },
  {
   "cell_type": "code",
   "execution_count": 41,
   "metadata": {},
   "outputs": [
    {
     "data": {
      "text/plain": [
       "Text(0.5, 1.0, 'Train accuray Vs Val accuracy')"
      ]
     },
     "execution_count": 41,
     "metadata": {},
     "output_type": "execute_result"
    },
    {
     "data": {
      "image/png": "[encoded data removed]",
      "text/plain": [
       "<Figure size 432x288 with 1 Axes>"
      ]
     },
     "metadata": {
      "needs_background": "light"
     },
     "output_type": "display_data"
    }
   ],
   "source": [
    "plt.plot(losses[\"accuracy\"],label=\"train accuracy\")\n",
    "plt.plot(losses[\"val_accuracy\"],label=\"val_accuracy\")\n",
    "plt.legend()\n",
    "plt.title(\"Train accuray Vs Val accuracy\")"
   ]
  },
  {
   "cell_type": "code",
   "execution_count": null,
   "metadata": {},
   "outputs": [],
   "source": [
    "# It seems like 1 epoch is enough for this model. Indeed after 1 epoch, the model is overfitting.\n",
    "# THis might just be that it's very easy for the neural network the find the discriminative pattern amoung the images to classify them. It can't be an issue where some classes are being very well classified and other not beacause the data is perfectly balance accross all classes\n",
    "# We could see that if we could use the classification report of sklearn but it's not one of the module allowed.\n",
    "# Nevertheless, our model seems to be doing quiete well. We could tune things a bit by adding maybe another convolutional layer, or more units by layer but that seems like an overkill. What would be interesting here would actually be some dropout layer to reducing the overfitting.\n",
    "# The fine tuning of hyperparameter like the number of units, layers, batch size, dropout probability and others could be easily be done with Gridsearch by transforming our model into a sklearn classifier tanks to KerasClassifier wrapper for sklearn but we do not have time for that and those module are\n",
    "# not allowed in this test."
   ]
  },
  {
   "cell_type": "code",
   "execution_count": 42,
   "metadata": {},
   "outputs": [
    {
     "name": "stdout",
     "output_type": "stream",
     "text": [
      "313/313 [==============================] - 1s 2ms/step - loss: 0.1962 - accuracy: 0.9408\n"
     ]
    },
    {
     "data": {
      "text/plain": [
       "[0.1962069272994995, 0.9408000111579895]"
      ]
     },
     "execution_count": 42,
     "metadata": {},
     "output_type": "execute_result"
    }
   ],
   "source": [
    "# Evaluating the model on the test set\n",
    "model.evaluate(test_nn,y_test)"
   ]
  },
  {
   "cell_type": "code",
   "execution_count": null,
   "metadata": {},
   "outputs": [],
   "source": [
    "# The model with overfitting is doing quiet well on the test dataset with an accuracy score of 94.08% and a very low log loss"
   ]
  },
  {
   "cell_type": "code",
   "execution_count": 43,
   "metadata": {},
   "outputs": [],
   "source": [
    "# Reruning the model with 1 epoch"
   ]
  },
  {
   "cell_type": "code",
   "execution_count": 44,
   "metadata": {},
   "outputs": [],
   "source": [
    "model = tf.keras.models.Sequential()\n",
    "\n",
    "# Convolutional Layer\n",
    "model.add(tf.keras.layers.Conv2D(filters=32, kernel_size=(4,4),input_shape=(28, 28, 1), activation='relu',data_format='channels_last'))\n",
    "# Pooling layer\n",
    "model.add(tf.keras.layers.MaxPool2D(pool_size=(2, 2)))\n",
    "\n",
    "# Flattening the images to be able to input them in a dense layer\n",
    "model.add(tf.keras.layers.Flatten())\n",
    "\n",
    "# A Dense layer with 128 neurons (Hidden layer)\n",
    "model.add(tf.keras.layers.Dense(128, activation='relu'))\n",
    "\n",
    "# The dense layer that those the classification with 10 neurons as we got 10 classes\n",
    "model.add(tf.keras.layers.Dense(10, activation='softmax'))\n",
    "\n",
    "# I'm using the categorical_crossentropy loss function because we are dealing with a multiclassification issue and this function will punish the model more when it is confident when it is wrong. We should then have more robust results.\n",
    "model.compile(loss='categorical_crossentropy',\n",
    "              optimizer='rmsprop',\n",
    "              metrics=['accuracy'])"
   ]
  },
  {
   "cell_type": "code",
   "execution_count": 45,
   "metadata": {},
   "outputs": [
    {
     "name": "stdout",
     "output_type": "stream",
     "text": [
      "6250/6250 [==============================] - 64s 10ms/step - loss: 0.4113 - accuracy: 0.8797 - val_loss: 0.3451 - val_accuracy: 0.8959\n"
     ]
    },
    {
     "data": {
      "text/plain": [
       "<tensorflow.python.keras.callbacks.History at 0x1b1b7db7130>"
      ]
     },
     "execution_count": 45,
     "metadata": {},
     "output_type": "execute_result"
    }
   ],
   "source": [
    "model.fit(train_nn,y_train,epochs=1,validation_data=(val_nn,y_val),batch_size=32)"
   ]
  },
  {
   "cell_type": "code",
   "execution_count": 46,
   "metadata": {},
   "outputs": [
    {
     "name": "stdout",
     "output_type": "stream",
     "text": [
      "313/313 [==============================] - 1s 2ms/step - loss: 0.1762 - accuracy: 0.9502\n"
     ]
    },
    {
     "data": {
      "text/plain": [
       "[0.17618057131767273, 0.9502000212669373]"
      ]
     },
     "execution_count": 46,
     "metadata": {},
     "output_type": "execute_result"
    }
   ],
   "source": [
    "model.evaluate(test_nn,y_test)"
   ]
  },
  {
   "cell_type": "code",
   "execution_count": 47,
   "metadata": {},
   "outputs": [],
   "source": [
    "# The results are better here with one epoch but  as we can see in training, there is some underfitting going on. Therefore, there is much to learn and that can be solve by more Conv layer, or units by layer for exemple."
   ]
  },
  {
   "cell_type": "code",
   "execution_count": null,
   "metadata": {},
   "outputs": [],
   "source": []
  }
 ],
 "metadata": {
  "kernelspec": {
   "display_name": "Python 3",
   "language": "python",
   "name": "python3"
  },
  "language_info": {
   "codemirror_mode": {
    "name": "ipython",
    "version": 3
   },
   "file_extension": ".py",
   "mimetype": "text/x-python",
   "name": "python",
   "nbconvert_exporter": "python",
   "pygments_lexer": "ipython3",
   "version": "3.8.5"
  },
  "metadata": {
   "interpreter": {
    "hash": "aee8b7b246df8f9039afb4144a1f6fd8d2ca17a180786b69acc140d282b71a49"
   }
  }
 },
 "nbformat": 4,
 "nbformat_minor": 4
}
